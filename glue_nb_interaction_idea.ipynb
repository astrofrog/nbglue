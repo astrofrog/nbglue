{
 "cells": [
  {
   "cell_type": "code",
   "execution_count": null,
   "metadata": {
    "collapsed": false
   },
   "outputs": [],
   "source": [
    "import numpy as np\n",
    "\n",
    "import glue"
   ]
  },
  {
   "cell_type": "code",
   "execution_count": null,
   "metadata": {
    "collapsed": false
   },
   "outputs": [],
   "source": [
    "x = np.random.randn(100)\n",
    "y = x*1.2 + np.random.randn(len(x))\n",
    "z = x*2.3 + y*3.1 + np.random.randn(len(x))/3.5\n",
    "\n",
    "w = 1/x + np.random.randn(len(x))/1.1"
   ]
  },
  {
   "cell_type": "code",
   "execution_count": null,
   "metadata": {
    "collapsed": true
   },
   "outputs": [],
   "source": [
    "# MAYBE:\n",
    "nbglue = glue.nbglue()\n",
    "\n",
    "# or perhaps it needs to be singleton-y? if so, then\n",
    "from glue import nbglue"
   ]
  },
  {
   "cell_type": "code",
   "execution_count": null,
   "metadata": {
    "collapsed": true
   },
   "outputs": [],
   "source": [
    "nbglue.add(glue.core.Data(x=x, y=y, z=z))\n",
    "\n",
    "# or have nbglue include Data for convenience:\n",
    "nbglue.add(nbglue.core.Data(x=x, y=y, z=z))\n",
    "\n",
    "# or this could be a convenience function... \n",
    "# depending on how flexible Data should be (i.e. the below would \n",
    "# accept various random things like pandas, astropy tables, etc a\n",
    "# la qglue):\n",
    "nbglue.add_dataset({'x':x, 'y':y, 'z':z}, label='dataset')"
   ]
  },
  {
   "cell_type": "markdown",
   "metadata": {},
   "source": [
    "# In a \"blocking\" mode (using Qt)"
   ]
  },
  {
   "cell_type": "code",
   "execution_count": null,
   "metadata": {
    "collapsed": true
   },
   "outputs": [],
   "source": [
    "plot1 = nbglue.scatter('x', 'y')\n",
    "plot2 = nbglue.scatter('x', 'z')\n",
    "plot3 = nbglue.scatter_3d('x','y','z')\n",
    "\n",
    "nbglue.show([plot1, plot2, plot3])"
   ]
  },
  {
   "cell_type": "markdown",
   "metadata": {},
   "source": [
    "Running the cell above should then pop up three windows, each with their associated plot options.  When all those windows are closed, the function returns jupyter notebook images of the three windows in their final state when closed.  *Maybe* also any changed plot options?\n",
    "\n",
    "As a slightly-less optimal choice, it could be a \"stripped-down\" ginga viewer that has all three plots as panes in the standard viewer but with a bunch of the stuff like the plot layers and dataset tree hidden.\n",
    "\n",
    "Presumably it wouldn't be too hard to also let the plot options get set in the `scatter`/`scatter_3d` calls above."
   ]
  },
  {
   "cell_type": "markdown",
   "metadata": {},
   "source": [
    "### Probably something like this should also be possible: "
   ]
  },
  {
   "cell_type": "code",
   "execution_count": null,
   "metadata": {
    "collapsed": true
   },
   "outputs": [],
   "source": [
    "dataset2 = glue.core.Data({'x':x, 'w': w}, label='dataset2')\n",
    "nbglue.add(dataset2)\n",
    "\n",
    "# the dataset with label '' is the \"default\" without a specific dataset\n",
    "nbglue.link('x', 'dataset2.x')\n",
    "\n",
    "plot4 = nbglue.scatter('dataset2.x', 'dataset2.w')\n",
    "\n",
    "nbglue.show([plot1, plot2, plot3, plot4])"
   ]
  },
  {
   "cell_type": "markdown",
   "metadata": {},
   "source": [
    "# In a non-blocking mode (using Qt)"
   ]
  },
  {
   "cell_type": "code",
   "execution_count": null,
   "metadata": {
    "collapsed": true
   },
   "outputs": [],
   "source": [
    "nbglue.ishow([plot1, plot2, plot3])"
   ]
  },
  {
   "cell_type": "markdown",
   "metadata": {},
   "source": [
    "Just like the above, but it returns some sort of \"delayed image\" thingie.  Then once you've played around with the plots, when you save the notebook, it grabs a screenshot and drops it into the \"delayed image\".  So the last state gets saved.  If you close the window, that's frozen as the \"delayed image\"."
   ]
  },
  {
   "cell_type": "code",
   "execution_count": null,
   "metadata": {
    "collapsed": false
   },
   "outputs": [],
   "source": [
    "# might also be possible, at least in the \"singleton\" mode:\n",
    "nbglue.finalize()\n",
    "# this would close all the windows and freeze the \"delated image\""
   ]
  },
  {
   "cell_type": "markdown",
   "metadata": {},
   "source": [
    "### This is a more complex sort of dataset, but illustrates *why* you'd want to do this in an interactive mode"
   ]
  },
  {
   "cell_type": "code",
   "execution_count": null,
   "metadata": {
    "collapsed": true
   },
   "outputs": [],
   "source": [
    "from photutils import DAOStarFinder\n",
    "from astropy.stats import mad_std\n",
    "\n",
    "... load some image into `image`...\n",
    "\n",
    "bkg_sigma = mad_std(image)    \n",
    "daofind = DAOStarFinder(fwhm=4., threshold=3.*bkg_sigma)    \n",
    "sources = daofind(image) \n",
    "# The result called `sources` is an astropy table that has\n",
    "# 'xcentroid', 'ycentroid', and 'mag' columns"
   ]
  },
  {
   "cell_type": "code",
   "execution_count": null,
   "metadata": {
    "collapsed": true
   },
   "outputs": [],
   "source": [
    "nbglue.add_dataset(sources)\n",
    "\n",
    "plot1 = nbglue.scatter('xcentroid', 'ycentroid')\n",
    "plot2 = nbglue.hist('mag')\n",
    "\n",
    "nbglue.show([plot1, plot2])"
   ]
  },
  {
   "cell_type": "markdown",
   "metadata": {},
   "source": [
    "Now I go and draw some regions using the glue plotting tools using *both* plots (e.g., blocking out certain ranges in the histogram *and* drawing a circle in the x/y plot)."
   ]
  },
  {
   "cell_type": "code",
   "execution_count": null,
   "metadata": {
    "collapsed": true
   },
   "outputs": [],
   "source": [
    "msk = nbglue.get_selection('')  \n",
    "# I'm not sure exactly what the scope of selections is in glue.  So this could also be:\n",
    "msk = nbglue.get_selection('xcentroid')\n",
    "# or\n",
    "msk = plot1.get_selection('xcentroid')\n",
    "# or even\n",
    "msk = nbglue.get_selection(sources)"
   ]
  },
  {
   "cell_type": "code",
   "execution_count": null,
   "metadata": {
    "collapsed": true
   },
   "outputs": [],
   "source": [
    "np.max(sources[msk]['peak'])"
   ]
  },
  {
   "cell_type": "markdown",
   "metadata": {},
   "source": [
    "Oops!  After doing that I now realize that some of my sources are cosmic rays or something.  So I realize I want to add more.  Two possible ways that could work, one better (but I suspect might be harder to implement), and another less optimal but still ok:"
   ]
  },
  {
   "cell_type": "markdown",
   "metadata": {},
   "source": [
    "#### Best option "
   ]
  },
  {
   "cell_type": "code",
   "execution_count": null,
   "metadata": {
    "collapsed": true
   },
   "outputs": [],
   "source": [
    "nbglue.add_selection(sources['peak']<10000)"
   ]
  },
  {
   "cell_type": "markdown",
   "metadata": {},
   "source": [
    "Now I examine the plots and I'm happy with my selection"
   ]
  },
  {
   "cell_type": "code",
   "execution_count": null,
   "metadata": {
    "collapsed": true
   },
   "outputs": [],
   "source": [
    "msk = nbglue.get_selection('') # or whatever above"
   ]
  },
  {
   "cell_type": "markdown",
   "metadata": {},
   "source": [
    "#### Backup option "
   ]
  },
  {
   "cell_type": "code",
   "execution_count": null,
   "metadata": {
    "collapsed": true
   },
   "outputs": [],
   "source": [
    "msk1 = sources['peak']<10000"
   ]
  },
  {
   "cell_type": "markdown",
   "metadata": {},
   "source": [
    "I just accept that I can't programatically mess with the selection, but am pretty sure that's the right cut"
   ]
  },
  {
   "cell_type": "code",
   "execution_count": null,
   "metadata": {
    "collapsed": true
   },
   "outputs": [],
   "source": [
    "msk = msk & msk1"
   ]
  },
  {
   "cell_type": "markdown",
   "metadata": {},
   "source": [
    "####  (continuing from the end of the two options)"
   ]
  },
  {
   "cell_type": "code",
   "execution_count": null,
   "metadata": {
    "collapsed": true
   },
   "outputs": [],
   "source": [
    "good_targets = sources[msk]"
   ]
  },
  {
   "cell_type": "markdown",
   "metadata": {},
   "source": [
    "And then I go on with my science workflow and maybe do the same in another band or something"
   ]
  },
  {
   "cell_type": "markdown",
   "metadata": {},
   "source": [
    "#  Stretch goal: In the notebook "
   ]
  },
  {
   "cell_type": "markdown",
   "metadata": {},
   "source": [
    "This is probably a bigger challenge technically.  The idea would be a Python interface similar/identical to the non-blocking mode, but with the plots and interaction tools *in the notebook*  So you can do the linked brushing and such in the notebook."
   ]
  }
 ],
 "metadata": {
  "kernelspec": {
   "display_name": "Python [default]",
   "language": "python",
   "name": "python3"
  },
  "language_info": {
   "codemirror_mode": {
    "name": "ipython",
    "version": 3
   },
   "file_extension": ".py",
   "mimetype": "text/x-python",
   "name": "python",
   "nbconvert_exporter": "python",
   "pygments_lexer": "ipython3",
   "version": "3.5.2"
  }
 },
 "nbformat": 4,
 "nbformat_minor": 0
}
